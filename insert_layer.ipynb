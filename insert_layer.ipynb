{
 "cells": [
  {
   "cell_type": "markdown",
   "metadata": {},
   "source": [
    "# Insert layer into keras model"
   ]
  },
  {
   "cell_type": "code",
   "execution_count": 29,
   "metadata": {},
   "outputs": [
    {
     "name": "stdout",
     "output_type": "stream",
     "text": [
      "_________________________________________________________________\n",
      "Layer (type)                 Output Shape              Param #   \n",
      "=================================================================\n",
      "input_5 (InputLayer)         (None, 512, 512, 3)       0         \n",
      "_________________________________________________________________\n",
      "conv2d_9 (Conv2D)            (None, 512, 512, 32)      2432      \n",
      "_________________________________________________________________\n",
      "max_pooling2d_11 (MaxPooling (None, 256, 256, 32)      0         \n",
      "_________________________________________________________________\n",
      "conv2d_10 (Conv2D)           (None, 252, 252, 64)      51264     \n",
      "_________________________________________________________________\n",
      "max_pooling2d_12 (MaxPooling (None, 126, 126, 64)      0         \n",
      "_________________________________________________________________\n",
      "flatten_5 (Flatten)          (None, 1016064)           0         \n",
      "_________________________________________________________________\n",
      "dense_9 (Dense)              (None, 1000)              1016065000\n",
      "_________________________________________________________________\n",
      "dense_10 (Dense)             (None, 10)                10010     \n",
      "=================================================================\n",
      "Total params: 1,016,128,706\n",
      "Trainable params: 1,016,128,706\n",
      "Non-trainable params: 0\n",
      "_________________________________________________________________\n"
     ]
    }
   ],
   "source": [
    "import keras\n",
    "from keras.models import Model, Sequential\n",
    "from keras.layers import Conv2D, MaxPooling2D, Flatten, Dense, Input\n",
    "\n",
    "input_shape = (512, 512, 3)\n",
    "num_classes = 10\n",
    "input_layer = Input(shape=input_shape)\n",
    "layer = Conv2D(32, kernel_size=(5, 5), strides=(1, 1),\n",
    "               padding='same',\n",
    "                 activation='relu',\n",
    "                 input_shape=input_shape)(input_layer)\n",
    "layer = MaxPooling2D(pool_size=(2, 2), strides=(2, 2), padding='same',)(layer)\n",
    "layer = Conv2D(64, (5, 5), activation='relu')(layer)\n",
    "layer = MaxPooling2D(pool_size=(2, 2))(layer)\n",
    "layer = Flatten()(layer)\n",
    "layer = Dense(1000, activation='relu')(layer)\n",
    "layer = Dense(num_classes, activation='softmax')(layer)\n",
    "model = Model(inputs=input_layer, outputs = layer)\n",
    "model.summary()"
   ]
  },
  {
   "cell_type": "code",
   "execution_count": 33,
   "metadata": {},
   "outputs": [
    {
     "name": "stdout",
     "output_type": "stream",
     "text": [
      "_________________________________________________________________\n",
      "Layer (type)                 Output Shape              Param #   \n",
      "=================================================================\n",
      "conv2d_9 (Conv2D)            (None, 512, 512, 32)      2432      \n",
      "_________________________________________________________________\n",
      "max_pooling2d_11 (MaxPooling (None, 256, 256, 32)      0         \n",
      "_________________________________________________________________\n",
      "new_conv2d (Conv2D)          (None, 252, 252, 64)      51264     \n",
      "=================================================================\n",
      "Total params: 53,696\n",
      "Trainable params: 53,696\n",
      "Non-trainable params: 0\n",
      "_________________________________________________________________\n",
      "_________________________________________________________________\n",
      "Layer (type)                 Output Shape              Param #   \n",
      "=================================================================\n",
      "sequential_38 (Sequential)   (None, 252, 252, 64)      53696     \n",
      "_________________________________________________________________\n",
      "max_pooling2d_12 (MaxPooling multiple                  0         \n",
      "_________________________________________________________________\n",
      "flatten_5 (Flatten)          multiple                  0         \n",
      "_________________________________________________________________\n",
      "dense_9 (Dense)              (None, 1000)              1016065000\n",
      "_________________________________________________________________\n",
      "dense_10 (Dense)             (None, 10)                10010     \n",
      "=================================================================\n",
      "Total params: 1,016,128,706\n",
      "Trainable params: 1,016,128,706\n",
      "Non-trainable params: 0\n",
      "_________________________________________________________________\n"
     ]
    }
   ],
   "source": [
    "s1 = Sequential()\n",
    "for layer in model.layers[:layer_idx]:\n",
    "    s1.add(layer)\n",
    "new_layer = Conv2D(64, (5, 5), activation='relu', name='new_conv2d')\n",
    "s1.add(new_layer)\n",
    "# new_layer2 = MaxPooling2D(pool_size=(2, 2), name='new_maxpool2d')\n",
    "# s1.add(new_layer2)\n",
    "s1.summary()\n",
    "s2 = Sequential()\n",
    "s2.add(s1)\n",
    "for layer in model.layers[layer_idx+1:]:\n",
    "    s2.add(layer)\n",
    "s2.summary()"
   ]
  },
  {
   "cell_type": "code",
   "execution_count": 16,
   "metadata": {},
   "outputs": [
    {
     "name": "stdout",
     "output_type": "stream",
     "text": [
      "_________________________________________________________________\n",
      "Layer (type)                 Output Shape              Param #   \n",
      "=================================================================\n",
      "input_2 (InputLayer)         (None, 224, 224, 3)       0         \n",
      "_________________________________________________________________\n",
      "conv2d_3 (Conv2D)            (None, 220, 220, 32)      2432      \n",
      "_________________________________________________________________\n",
      "max_pooling2d_3 (MaxPooling2 (None, 110, 110, 32)      0         \n",
      "_________________________________________________________________\n",
      "conv2d_4 (Conv2D)            (None, 106, 106, 64)      51264     \n",
      "_________________________________________________________________\n",
      "new_conv2d (Conv2D)          (None, 102, 102, 64)      102464    \n",
      "=================================================================\n",
      "Total params: 156,160\n",
      "Trainable params: 156,160\n",
      "Non-trainable params: 0\n",
      "_________________________________________________________________\n",
      "_________________________________________________________________\n",
      "Layer (type)                 Output Shape              Param #   \n",
      "=================================================================\n",
      "model_14 (Model)             (None, 102, 102, 64)      156160    \n",
      "=================================================================\n",
      "Total params: 156,160\n",
      "Trainable params: 156,160\n",
      "Non-trainable params: 0\n",
      "_________________________________________________________________\n"
     ]
    }
   ],
   "source": [
    "from keras import Model\n",
    "layer_idx = 3\n",
    "new_layer = Conv2D(64, (5, 5), activation='relu', name='new_conv2d')(model.layers[layer_idx].output)\n",
    "model_1 = Model(inputs=model.inputs, outputs=new_layer)\n",
    "model_1.summary()\n",
    "model_2 = Sequential()\n",
    "model_2.add(model_1)\n",
    "# for layer in model.layers[layer_idx:]:\n",
    "#     model_2.add(layer)\n",
    "model_2.summary()\n",
    "# new_model = Model(inputs=model_1.inputs, outputs=model_2.outputs)\n",
    "# new_model.summary()\n",
    "# model_1.summary()"
   ]
  },
  {
   "cell_type": "code",
   "execution_count": null,
   "metadata": {},
   "outputs": [],
   "source": []
  }
 ],
 "metadata": {
  "kernelspec": {
   "display_name": "Python 3",
   "language": "python",
   "name": "python3"
  }
 },
 "nbformat": 4,
 "nbformat_minor": 2
}
